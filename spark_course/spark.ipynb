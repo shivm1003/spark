{
 "cells": [
  {
   "cell_type": "code",
   "id": "initial_id",
   "metadata": {
    "collapsed": true,
    "ExecuteTime": {
     "end_time": "2025-07-16T08:29:08.944333Z",
     "start_time": "2025-07-16T08:29:08.923777Z"
    }
   },
   "source": [
    "import re\n",
    "def split_word(line):\n",
    "    return re.compile(r'\\w+').findall(line.lower())\n",
    "\n",
    "split_word(\"shivam pandey ?> + he\")"
   ],
   "outputs": [
    {
     "data": {
      "text/plain": [
       "['shivam', 'pandey', 'he']"
      ]
     },
     "execution_count": 1,
     "metadata": {},
     "output_type": "execute_result"
    }
   ],
   "execution_count": 1
  },
  {
   "metadata": {},
   "cell_type": "code",
   "outputs": [],
   "execution_count": null,
   "source": "",
   "id": "6c6a187c8bc841de"
  }
 ],
 "metadata": {
  "kernelspec": {
   "display_name": "Python 3",
   "language": "python",
   "name": "python3"
  },
  "language_info": {
   "codemirror_mode": {
    "name": "ipython",
    "version": 2
   },
   "file_extension": ".py",
   "mimetype": "text/x-python",
   "name": "python",
   "nbconvert_exporter": "python",
   "pygments_lexer": "ipython2",
   "version": "2.7.6"
  }
 },
 "nbformat": 4,
 "nbformat_minor": 5
}
